{
 "cells": [
  {
   "cell_type": "code",
   "execution_count": 267,
   "metadata": {},
   "outputs": [],
   "source": [
    "import json\n",
    "from stop_words import get_stop_words\n",
    "from gensim.models.doc2vec import TaggedDocument,Doc2Vec\n",
    "import pandas as pd\n",
    "import numpy as np\n",
    "from scipy import spatial,stats\n",
    "import csv"
   ]
  },
  {
   "cell_type": "markdown",
   "metadata": {},
   "source": [
    "<h2>Text Data</h2>\n",
    "\n",
    "Reads in the ISEAR emotion dataset into Pandas dataframe. http://emotion-research.net/toolbox/toolboxdatabase.2006-10-13.2581092615"
   ]
  },
  {
   "cell_type": "code",
   "execution_count": 92,
   "metadata": {},
   "outputs": [],
   "source": [
    "df_isear = pd.read_csv('ISEAR1.csv',index_col=False)"
   ]
  },
  {
   "cell_type": "code",
   "execution_count": 93,
   "metadata": {},
   "outputs": [
    {
     "data": {
      "text/html": [
       "<div>\n",
       "<style scoped>\n",
       "    .dataframe tbody tr th:only-of-type {\n",
       "        vertical-align: middle;\n",
       "    }\n",
       "\n",
       "    .dataframe tbody tr th {\n",
       "        vertical-align: top;\n",
       "    }\n",
       "\n",
       "    .dataframe thead th {\n",
       "        text-align: right;\n",
       "    }\n",
       "</style>\n",
       "<table border=\"1\" class=\"dataframe\">\n",
       "  <thead>\n",
       "    <tr style=\"text-align: right;\">\n",
       "      <th></th>\n",
       "      <th>emotion</th>\n",
       "      <th>text</th>\n",
       "    </tr>\n",
       "  </thead>\n",
       "  <tbody>\n",
       "    <tr>\n",
       "      <th>0</th>\n",
       "      <td>joy</td>\n",
       "      <td>On days when I feel close to my partner and ot...</td>\n",
       "    </tr>\n",
       "    <tr>\n",
       "      <th>1</th>\n",
       "      <td>fear</td>\n",
       "      <td>Every time I imagine that someone I love or I ...</td>\n",
       "    </tr>\n",
       "    <tr>\n",
       "      <th>2</th>\n",
       "      <td>anger</td>\n",
       "      <td>When I had been obviously unjustly treated and...</td>\n",
       "    </tr>\n",
       "    <tr>\n",
       "      <th>3</th>\n",
       "      <td>sadness</td>\n",
       "      <td>When I think about the short time that we live...</td>\n",
       "    </tr>\n",
       "    <tr>\n",
       "      <th>4</th>\n",
       "      <td>disgust</td>\n",
       "      <td>At a gathering I found myself involuntarily si...</td>\n",
       "    </tr>\n",
       "  </tbody>\n",
       "</table>\n",
       "</div>"
      ],
      "text/plain": [
       "   emotion                                               text\n",
       "0      joy  On days when I feel close to my partner and ot...\n",
       "1     fear  Every time I imagine that someone I love or I ...\n",
       "2    anger  When I had been obviously unjustly treated and...\n",
       "3  sadness  When I think about the short time that we live...\n",
       "4  disgust  At a gathering I found myself involuntarily si..."
      ]
     },
     "execution_count": 93,
     "metadata": {},
     "output_type": "execute_result"
    }
   ],
   "source": [
    "df_isear.head()"
   ]
  },
  {
   "cell_type": "markdown",
   "metadata": {},
   "source": [
    "<h2>Model Creation Functions</h2>\n",
    "\n",
    "Function will prepare a list of articles and create a do2vec model from them. "
   ]
  },
  {
   "cell_type": "code",
   "execution_count": 94,
   "metadata": {},
   "outputs": [],
   "source": [
    "def create_doc2vec_model(articles,name,vector_size=100,epochs=10,lang='en'):\n",
    "    # import stopwords for specific language of model\n",
    "    stop_words = get_stop_words(lang)\n",
    "    ## list of just articles (str)\n",
    "    #strip stopwords article docs\n",
    "    nostop = [[i for i in doc.lower().split() if i not in stop_words] for doc in articles]\n",
    "    #tokenize article docs and convert to doc2vec tagged docs - each article has an index number and list of tokens - taggedoc(['token1','token2',[1]])\n",
    "    tagged = [TaggedDocument(doc,[i]) for i,doc in enumerate(nostop)]\n",
    "    # instantiate doc2vec model with parameters - size = # of nums representing each doc (100), min_count - occurences of words in vocab (filter out rare words), iter - passes to create vectors\n",
    "    model = Doc2Vec(vector_size=vector_size, min_count=2, epochs=epochs)\n",
    "    ## build vocab from all tagged docs\n",
    "    model.build_vocab(tagged)\n",
    "    ## train model on tagged docs - total examples - total # of docs\n",
    "    model.train(tagged,total_examples=model.corpus_count,epochs=epochs)\n",
    "    # save model with language - eg esmodel.model for spanish docs\n",
    "    model_name = name + 'model.model'\n",
    "    model.save(model_name)\n",
    "    model.delete_temporary_training_data(keep_doctags_vectors=True, keep_inference=True)\n",
    "    print('saved as: ' + model_name)"
   ]
  },
  {
   "cell_type": "markdown",
   "metadata": {},
   "source": [
    "<h2>Group Data by Emotion</h2>\n",
    "\n",
    "Create ids for each emotion and group sentences by emotion.\n",
    "\n",
    "Each emotion group contains roughly the same number of sentences  - ranging from 1050 - 1092. "
   ]
  },
  {
   "cell_type": "code",
   "execution_count": 95,
   "metadata": {},
   "outputs": [],
   "source": [
    "emotion_id = []\n",
    "for x in df_isear['emotion']:\n",
    "    if x == 'anger':\n",
    "        emotion_id.append(0)\n",
    "    if x == 'disgust':\n",
    "        emotion_id.append(1)\n",
    "    if x == 'fear':\n",
    "        emotion_id.append(2)\n",
    "    if x == 'guilt':\n",
    "        emotion_id.append(3)\n",
    "    if x == 'joy':\n",
    "        emotion_id.append(4)\n",
    "    if x == 'sadness':\n",
    "        emotion_id.append(5)\n",
    "    if x == 'shame':\n",
    "        emotion_id.append(6)"
   ]
  },
  {
   "cell_type": "code",
   "execution_count": 96,
   "metadata": {},
   "outputs": [],
   "source": [
    "df_isear['id'] = emotion_id"
   ]
  },
  {
   "cell_type": "code",
   "execution_count": 119,
   "metadata": {},
   "outputs": [
    {
     "data": {
      "text/html": [
       "<div>\n",
       "<style scoped>\n",
       "    .dataframe tbody tr th:only-of-type {\n",
       "        vertical-align: middle;\n",
       "    }\n",
       "\n",
       "    .dataframe tbody tr th {\n",
       "        vertical-align: top;\n",
       "    }\n",
       "\n",
       "    .dataframe thead th {\n",
       "        text-align: right;\n",
       "    }\n",
       "</style>\n",
       "<table border=\"1\" class=\"dataframe\">\n",
       "  <thead>\n",
       "    <tr style=\"text-align: right;\">\n",
       "      <th></th>\n",
       "      <th>emotion</th>\n",
       "      <th>text</th>\n",
       "      <th>id</th>\n",
       "    </tr>\n",
       "  </thead>\n",
       "  <tbody>\n",
       "    <tr>\n",
       "      <th>0</th>\n",
       "      <td>joy</td>\n",
       "      <td>On days when I feel close to my partner and ot...</td>\n",
       "      <td>4</td>\n",
       "    </tr>\n",
       "    <tr>\n",
       "      <th>1</th>\n",
       "      <td>fear</td>\n",
       "      <td>Every time I imagine that someone I love or I ...</td>\n",
       "      <td>2</td>\n",
       "    </tr>\n",
       "    <tr>\n",
       "      <th>2</th>\n",
       "      <td>anger</td>\n",
       "      <td>When I had been obviously unjustly treated and...</td>\n",
       "      <td>0</td>\n",
       "    </tr>\n",
       "    <tr>\n",
       "      <th>3</th>\n",
       "      <td>sadness</td>\n",
       "      <td>When I think about the short time that we live...</td>\n",
       "      <td>5</td>\n",
       "    </tr>\n",
       "    <tr>\n",
       "      <th>4</th>\n",
       "      <td>disgust</td>\n",
       "      <td>At a gathering I found myself involuntarily si...</td>\n",
       "      <td>1</td>\n",
       "    </tr>\n",
       "  </tbody>\n",
       "</table>\n",
       "</div>"
      ],
      "text/plain": [
       "   emotion                                               text  id\n",
       "0      joy  On days when I feel close to my partner and ot...   4\n",
       "1     fear  Every time I imagine that someone I love or I ...   2\n",
       "2    anger  When I had been obviously unjustly treated and...   0\n",
       "3  sadness  When I think about the short time that we live...   5\n",
       "4  disgust  At a gathering I found myself involuntarily si...   1"
      ]
     },
     "execution_count": 119,
     "metadata": {},
     "output_type": "execute_result"
    }
   ],
   "source": [
    "df_isear.head()"
   ]
  },
  {
   "cell_type": "code",
   "execution_count": 124,
   "metadata": {},
   "outputs": [],
   "source": [
    "dfgrp = df_isear.groupby('emotion')"
   ]
  },
  {
   "cell_type": "code",
   "execution_count": 125,
   "metadata": {},
   "outputs": [
    {
     "data": {
      "text/html": [
       "<div>\n",
       "<style scoped>\n",
       "    .dataframe tbody tr th:only-of-type {\n",
       "        vertical-align: middle;\n",
       "    }\n",
       "\n",
       "    .dataframe tbody tr th {\n",
       "        vertical-align: top;\n",
       "    }\n",
       "\n",
       "    .dataframe thead th {\n",
       "        text-align: right;\n",
       "    }\n",
       "</style>\n",
       "<table border=\"1\" class=\"dataframe\">\n",
       "  <thead>\n",
       "    <tr style=\"text-align: right;\">\n",
       "      <th></th>\n",
       "      <th>text</th>\n",
       "      <th>id</th>\n",
       "    </tr>\n",
       "    <tr>\n",
       "      <th>emotion</th>\n",
       "      <th></th>\n",
       "      <th></th>\n",
       "    </tr>\n",
       "  </thead>\n",
       "  <tbody>\n",
       "    <tr>\n",
       "      <th>anger</th>\n",
       "      <td>1079</td>\n",
       "      <td>1079</td>\n",
       "    </tr>\n",
       "    <tr>\n",
       "      <th>disgust</th>\n",
       "      <td>1066</td>\n",
       "      <td>1066</td>\n",
       "    </tr>\n",
       "    <tr>\n",
       "      <th>fear</th>\n",
       "      <td>1076</td>\n",
       "      <td>1076</td>\n",
       "    </tr>\n",
       "    <tr>\n",
       "      <th>guilt</th>\n",
       "      <td>1050</td>\n",
       "      <td>1050</td>\n",
       "    </tr>\n",
       "    <tr>\n",
       "      <th>joy</th>\n",
       "      <td>1092</td>\n",
       "      <td>1092</td>\n",
       "    </tr>\n",
       "    <tr>\n",
       "      <th>sadness</th>\n",
       "      <td>1082</td>\n",
       "      <td>1082</td>\n",
       "    </tr>\n",
       "    <tr>\n",
       "      <th>shame</th>\n",
       "      <td>1071</td>\n",
       "      <td>1071</td>\n",
       "    </tr>\n",
       "  </tbody>\n",
       "</table>\n",
       "</div>"
      ],
      "text/plain": [
       "         text    id\n",
       "emotion            \n",
       "anger    1079  1079\n",
       "disgust  1066  1066\n",
       "fear     1076  1076\n",
       "guilt    1050  1050\n",
       "joy      1092  1092\n",
       "sadness  1082  1082\n",
       "shame    1071  1071"
      ]
     },
     "execution_count": 125,
     "metadata": {},
     "output_type": "execute_result"
    }
   ],
   "source": [
    "dfgrp.count()"
   ]
  },
  {
   "cell_type": "markdown",
   "metadata": {},
   "source": [
    "<h2>Create Single Document for Each Emotion</h2>\n",
    "\n",
    "Collect all the sentences for a given emotion in one document. "
   ]
  },
  {
   "cell_type": "code",
   "execution_count": 129,
   "metadata": {},
   "outputs": [],
   "source": [
    "emotions = list(df_isear.groupby(df_isear['emotion']))"
   ]
  },
  {
   "cell_type": "code",
   "execution_count": 130,
   "metadata": {},
   "outputs": [],
   "source": [
    "anger = ' '.join(emotions[0][1]['text'])\n",
    "disgust = ' '.join(emotions[1][1]['text'])\n",
    "fear = ' '.join(emotions[2][1]['text'])\n",
    "guilt = ' '.join(emotions[3][1]['text'])\n",
    "joy = ' '.join(emotions[4][1]['text'])\n",
    "sadness= ' '.join(emotions[5][1]['text'])\n",
    "shame = ' '.join(emotions[6][1]['text'])"
   ]
  },
  {
   "cell_type": "code",
   "execution_count": 144,
   "metadata": {},
   "outputs": [],
   "source": [
    "emotion_docs = [anger,disgust,fear,guilt,joy,sadness,shame]\n",
    "emotions = ['anger','disgust','fear','guilt','joy','sadness','shame']"
   ]
  },
  {
   "cell_type": "markdown",
   "metadata": {},
   "source": [
    "<h2>Create Doc2Vec Model From Emotion Documents</h2>\n",
    "\n",
    "A vector space will be created from the emotion documents and each emotion document will have a vector representation within that space. \n",
    "\n",
    "Load the newly creatd Doc2Vec model and store the vector representations of each emotion document in a list."
   ]
  },
  {
   "cell_type": "code",
   "execution_count": 132,
   "metadata": {},
   "outputs": [
    {
     "name": "stdout",
     "output_type": "stream",
     "text": [
      "saved as: emotionsmodel.model\n"
     ]
    }
   ],
   "source": [
    "create_doc2vec_model(emotion_docs ,'emotions',vector_size=100,epochs=10,lang='en')"
   ]
  },
  {
   "cell_type": "code",
   "execution_count": 133,
   "metadata": {},
   "outputs": [],
   "source": [
    "d2v_model = Doc2Vec.load('emotionsmodel.model')"
   ]
  },
  {
   "cell_type": "code",
   "execution_count": 147,
   "metadata": {},
   "outputs": [],
   "source": [
    "emot_vecs = [d2v_model.docvecs[i] for i,x in enumerate(emotions)]"
   ]
  },
  {
   "cell_type": "code",
   "execution_count": 173,
   "metadata": {},
   "outputs": [],
   "source": [
    "emot_vectors = list(zip(emotions,emot_vecs))"
   ]
  },
  {
   "cell_type": "markdown",
   "metadata": {},
   "source": [
    "<h2>Infer Vectors From List of Text Items</h2>\n",
    "\n",
    "Function will preprocess a list of text items and infer vectors for them from the newly created Doc2Vec model. "
   ]
  },
  {
   "cell_type": "code",
   "execution_count": 174,
   "metadata": {},
   "outputs": [],
   "source": [
    "def text2vec(textlist,lang,d2v_model):\n",
    "    stop_words = get_stop_words(lang)\n",
    "    histnostop = [[i for i in doc.lower().split() if i not in stop_words] for doc in textlist]\n",
    "    dlhist_tagged = [TaggedDocument(doc,[i]) for i,doc in enumerate(histnostop)]\n",
    "    ## infer vectors from current doc2model\n",
    "    vecs = [d2v_model.infer_vector(doc.words) for doc in dlhist_tagged]\n",
    "    return vecs"
   ]
  },
  {
   "cell_type": "code",
   "execution_count": 175,
   "metadata": {},
   "outputs": [],
   "source": [
    "sample_sent = ['You mean so much to me and I love you.','How could you do that you bastard. I cannot stand you!'] #sentences must be in a list"
   ]
  },
  {
   "cell_type": "code",
   "execution_count": 203,
   "metadata": {},
   "outputs": [],
   "source": [
    "sample_vec = text2vec(sample_sent,'en',d2v_model)"
   ]
  },
  {
   "cell_type": "code",
   "execution_count": 204,
   "metadata": {},
   "outputs": [
    {
     "data": {
      "text/plain": [
       "array([ 0.04967122, -0.01885439, -0.02742223,  0.00629402, -0.01563814,\n",
       "       -0.03423334,  0.00706906, -0.01418472, -0.01894525,  0.02464414,\n",
       "        0.03675739,  0.00742269, -0.00102734, -0.0390313 ,  0.00393074,\n",
       "       -0.0092905 ,  0.00380828, -0.03491097,  0.03660998,  0.01793002,\n",
       "       -0.00326422,  0.01564755, -0.02886198, -0.00446593, -0.01151069,\n",
       "        0.02740809, -0.00741997,  0.02514804,  0.02922452,  0.00331974,\n",
       "        0.00134247,  0.00040877,  0.01959951,  0.00903411, -0.00278456,\n",
       "        0.02115019,  0.0015956 ,  0.00717093, -0.01282372, -0.02305254,\n",
       "       -0.01705219, -0.00353309, -0.00688013,  0.00857654,  0.0030448 ,\n",
       "       -0.01894695,  0.02710157,  0.02208279,  0.02091953, -0.02427766,\n",
       "        0.01239031,  0.02803985,  0.00547659,  0.03087698,  0.02589514,\n",
       "        0.00436824,  0.02033944, -0.01289238,  0.01733798,  0.00065215,\n",
       "       -0.00426254,  0.0219882 ,  0.0342768 ,  0.03196919,  0.02000389,\n",
       "        0.0129513 , -0.01391707, -0.00231978, -0.00308594,  0.00513303,\n",
       "       -0.01985661, -0.0212808 , -0.0241942 , -0.02933192, -0.03653897,\n",
       "       -0.00296524,  0.01158474,  0.01198115,  0.01653855, -0.01764089,\n",
       "        0.00220879, -0.01729633, -0.02311684, -0.00627052,  0.03236399,\n",
       "       -0.02782146,  0.00122473, -0.02281468,  0.01960246, -0.03944036,\n",
       "        0.00257903, -0.01405261,  0.00893359, -0.01787238, -0.00433633,\n",
       "       -0.02118738, -0.03365073, -0.01332961, -0.02951947, -0.00714975],\n",
       "      dtype=float32)"
      ]
     },
     "execution_count": 204,
     "metadata": {},
     "output_type": "execute_result"
    }
   ],
   "source": [
    "sample_vec[0]"
   ]
  },
  {
   "cell_type": "code",
   "execution_count": 205,
   "metadata": {},
   "outputs": [],
   "source": [
    "isear_infer_vecs = text2vec(df_isear['text'],'en',d2v_model)"
   ]
  },
  {
   "cell_type": "markdown",
   "metadata": {},
   "source": [
    "<h2>Create .tsv files</h2>\n",
    "\n",
    "Functions for creating tsv files for use in a Tensorflow Embedding Projector"
   ]
  },
  {
   "cell_type": "code",
   "execution_count": 192,
   "metadata": {},
   "outputs": [],
   "source": [
    "## outputs and saves a tsv file for a list of vectors\n",
    "def output_tab_vecs(vecs,filename):\n",
    "    csv.register_dialect('tabDialect', delimiter='\\t', quoting=csv.QUOTE_NONE)\n",
    "    myFile = open(filename, 'w')  \n",
    "    with myFile:  \n",
    "        writer = csv.writer(myFile, dialect='tabDialect')\n",
    "        writer.writerows(vecs)\n",
    "    print('saved tab file as',filename)"
   ]
  },
  {
   "cell_type": "code",
   "execution_count": 263,
   "metadata": {},
   "outputs": [],
   "source": [
    "## outputs and saves a tsv file for a list of meta tags (2 columns or more)\n",
    "def output_tab_meta(meta,filename):\n",
    "    meta1 = [('emotion','text')] + meta \n",
    "    csv.register_dialect('tabDialect', delimiter='\\t', quoting=csv.QUOTE_NONE,escapechar='\\\\')\n",
    "    myFile = open(filename, 'w')  \n",
    "    with myFile:  \n",
    "        writer = csv.writer(myFile, dialect='tabDialect')\n",
    "        writer.writerows(meta1)\n",
    "    print('saved tab file as',filename)"
   ]
  },
  {
   "cell_type": "code",
   "execution_count": 194,
   "metadata": {},
   "outputs": [],
   "source": [
    "## outputs and saves a tsv file for a list of single column meta tags\n",
    "def output_single_meta(metalist,filename):\n",
    "    with open (filename, 'w') as fo:\n",
    "        for d in metalist:\n",
    "            fo.write(str(d) + '\\n')\n",
    "    print('saved tab file as',filename)"
   ]
  },
  {
   "cell_type": "markdown",
   "metadata": {},
   "source": [
    "Output tsv files for the vector means for each emotion and theirs labels as well as the vectors for each sentence and their labels (emotion,sentence text). "
   ]
  },
  {
   "cell_type": "code",
   "execution_count": 207,
   "metadata": {},
   "outputs": [
    {
     "name": "stdout",
     "output_type": "stream",
     "text": [
      "saved tab file as emot_vecs_docs.tsv\n"
     ]
    }
   ],
   "source": [
    "output_tab_vecs(emot_vecs,'emot_vecs_docs.tsv')"
   ]
  },
  {
   "cell_type": "code",
   "execution_count": 208,
   "metadata": {},
   "outputs": [
    {
     "name": "stdout",
     "output_type": "stream",
     "text": [
      "saved tab file as emot_labels_docs.tsv\n"
     ]
    }
   ],
   "source": [
    "output_single_meta(emotions,'emot_labels_docs.tsv')"
   ]
  },
  {
   "cell_type": "code",
   "execution_count": 265,
   "metadata": {},
   "outputs": [
    {
     "name": "stdout",
     "output_type": "stream",
     "text": [
      "saved tab file as emot_vecs_docs_isear_sents.tsv\n"
     ]
    }
   ],
   "source": [
    "output_tab_vecs(isear_infer_vecs,'emot_vecs_docs_isear_sents.tsv')"
   ]
  },
  {
   "cell_type": "code",
   "execution_count": 266,
   "metadata": {},
   "outputs": [
    {
     "name": "stdout",
     "output_type": "stream",
     "text": [
      "saved tab file as emot_labels_doc_isear_sents.tsv\n"
     ]
    }
   ],
   "source": [
    "meta_list = list(zip(df_isear['emotion'],df_isear['text']))\n",
    "output_tab_meta(meta_list,'emot_labels_doc_isear_sents.tsv')"
   ]
  },
  {
   "cell_type": "markdown",
   "metadata": {},
   "source": [
    "<h2>Tensorflow Embedding Projector </h2>\n",
    "\n",
    "Links use data previously generated in this notebook that is hosted on github. To use yoru own data, one can generate the required tsv files with the functions above and then upload the vec and meta .tsv files to the embedding projector with the 'Load Data' button and choose the appropriate file (vectors or metadata). \n",
    "\n",
    "<h3>Emotion Documents</h3>\n",
    "\n",
    "Plots each of the 7 emotions in the vector space. \n",
    "\n",
    "https://projector.tensorflow.org/?config=https://gist.githubusercontent.com/escottgoodwin/c4420996ba29cab5ec300727bb94f936/raw/07592b11817d2496281e2e25b268b3ffa0fe1b89/emotion_doc_config.json\n",
    "\n",
    "<h3>Inferred ISEAR Sentences</h3>\n",
    "\n",
    "Plots the vectors inferred from the Doc2Vec model for each sentence in ISEAR dataset. Be sure to try un-Spherizing the data. \n",
    "\n",
    "https://projector.tensorflow.org/?config=https://gist.githubusercontent.com/escottgoodwin/e46cf41f748a1a90a16551394b9f92f5/raw/6c13ddbaad0b8c9117d749d6e91397ab651e9daa/emotion_isear_sent_config.json"
   ]
  },
  {
   "cell_type": "markdown",
   "metadata": {},
   "source": [
    "<img src=\"ssdocemotions.png\">"
   ]
  },
  {
   "cell_type": "markdown",
   "metadata": {},
   "source": [
    "<h2>Predict Emotions</h2>\n",
    "\n",
    "Function will use cosine similarity to provide a 'score' for each of the emotion categories (anger:.84,joy:.21, sadness: .54....) as well as predict the most dominant emotion to compare against the oringal data's labels. \n",
    "\n",
    "Function will also return the vectors for each text item. \n"
   ]
  },
  {
   "cell_type": "code",
   "execution_count": 234,
   "metadata": {},
   "outputs": [],
   "source": [
    "def predict_emotions(text_list,lang,emotion_vecs,model_name):\n",
    "    d2v_model = Doc2Vec.load(model_name)\n",
    "    text_vecs = text2vec(text_list,lang,d2v_model)\n",
    "    emot_scan = [{x[0]: 1 - spatial.distance.cosine(sample_vec,x[1]) for x in emot_vectors} for sample_vec in text_vecs]\n",
    "    emot_pred = [np.argmax(list(x.values())) for x in emot_scan]\n",
    "    return emot_scan,emot_pred,text_vecs\n",
    "    "
   ]
  },
  {
   "cell_type": "code",
   "execution_count": 239,
   "metadata": {},
   "outputs": [],
   "source": [
    "emot_scan,emot_pred,text_vecs = predict_emotions(sample_sent,'en',emot_vecs,'emotionsmodel.model')"
   ]
  },
  {
   "cell_type": "code",
   "execution_count": 243,
   "metadata": {},
   "outputs": [
    {
     "data": {
      "text/plain": [
       "([4, 3],\n",
       " [{'anger': 0.6887170672416687,\n",
       "   'disgust': 0.7992683053016663,\n",
       "   'fear': 0.8286601305007935,\n",
       "   'guilt': 0.5883464813232422,\n",
       "   'joy': 0.9636943936347961,\n",
       "   'sadness': 0.8205100893974304,\n",
       "   'shame': 0.7367916703224182},\n",
       "  {'anger': 0.7632464170455933,\n",
       "   'disgust': 0.6065824627876282,\n",
       "   'fear': 0.3797411322593689,\n",
       "   'guilt': 0.8659026026725769,\n",
       "   'joy': 0.2196638137102127,\n",
       "   'sadness': 0.5754576325416565,\n",
       "   'shame': 0.7853734493255615}])"
      ]
     },
     "execution_count": 243,
     "metadata": {},
     "output_type": "execute_result"
    }
   ],
   "source": [
    "emot_pred,emot_scan"
   ]
  },
  {
   "cell_type": "markdown",
   "metadata": {},
   "source": [
    "<h2>Predict Emotions for All Sentences in ISEAR Dataset</h2>\n",
    "\n",
    "Use the prediction function to generate predictions for every sentences in the Isear Dataset. One can compare emot_pred (highest scored emotion) with the emotion label in the original dataset.  "
   ]
  },
  {
   "cell_type": "code",
   "execution_count": 244,
   "metadata": {},
   "outputs": [],
   "source": [
    "isear_sents = list(df_isear['text'])"
   ]
  },
  {
   "cell_type": "code",
   "execution_count": 245,
   "metadata": {},
   "outputs": [],
   "source": [
    "emot_scan_all,emot_pred_all,text_vecs_all = predict_emotions(isear_sents,'en',emot_vecs,'emotionsmodel.model')"
   ]
  },
  {
   "cell_type": "code",
   "execution_count": 254,
   "metadata": {},
   "outputs": [
    {
     "data": {
      "text/plain": [
       "('When I think about the short time that we live and relate it to the periods of my life when I think that I did not use this short time.',\n",
       " {'anger': 0.7804597616195679,\n",
       "  'disgust': 0.7343266010284424,\n",
       "  'fear': 0.9350709915161133,\n",
       "  'guilt': 0.7677331566810608,\n",
       "  'joy': 0.8120715618133545,\n",
       "  'sadness': 0.9825780987739563,\n",
       "  'shame': 0.7566156387329102})"
      ]
     },
     "execution_count": 254,
     "metadata": {},
     "output_type": "execute_result"
    }
   ],
   "source": [
    "df_isear['text'][3],emot_scan_all[3]"
   ]
  },
  {
   "cell_type": "markdown",
   "metadata": {},
   "source": [
    "<h2>Accuracy</h2>\n",
    "\n",
    "Calculate accuracy of predictions by finding matches between the id and prediction columns. "
   ]
  },
  {
   "cell_type": "code",
   "execution_count": 249,
   "metadata": {},
   "outputs": [],
   "source": [
    "df_isear['prediction'] = emot_pred_all"
   ]
  },
  {
   "cell_type": "code",
   "execution_count": 250,
   "metadata": {},
   "outputs": [
    {
     "data": {
      "text/html": [
       "<div>\n",
       "<style scoped>\n",
       "    .dataframe tbody tr th:only-of-type {\n",
       "        vertical-align: middle;\n",
       "    }\n",
       "\n",
       "    .dataframe tbody tr th {\n",
       "        vertical-align: top;\n",
       "    }\n",
       "\n",
       "    .dataframe thead th {\n",
       "        text-align: right;\n",
       "    }\n",
       "</style>\n",
       "<table border=\"1\" class=\"dataframe\">\n",
       "  <thead>\n",
       "    <tr style=\"text-align: right;\">\n",
       "      <th></th>\n",
       "      <th>emotion</th>\n",
       "      <th>text</th>\n",
       "      <th>id</th>\n",
       "      <th>prediction</th>\n",
       "    </tr>\n",
       "  </thead>\n",
       "  <tbody>\n",
       "    <tr>\n",
       "      <th>0</th>\n",
       "      <td>joy</td>\n",
       "      <td>On days when I feel close to my partner and ot...</td>\n",
       "      <td>4</td>\n",
       "      <td>1</td>\n",
       "    </tr>\n",
       "    <tr>\n",
       "      <th>1</th>\n",
       "      <td>fear</td>\n",
       "      <td>Every time I imagine that someone I love or I ...</td>\n",
       "      <td>2</td>\n",
       "      <td>5</td>\n",
       "    </tr>\n",
       "    <tr>\n",
       "      <th>2</th>\n",
       "      <td>anger</td>\n",
       "      <td>When I had been obviously unjustly treated and...</td>\n",
       "      <td>0</td>\n",
       "      <td>5</td>\n",
       "    </tr>\n",
       "    <tr>\n",
       "      <th>3</th>\n",
       "      <td>sadness</td>\n",
       "      <td>When I think about the short time that we live...</td>\n",
       "      <td>5</td>\n",
       "      <td>5</td>\n",
       "    </tr>\n",
       "    <tr>\n",
       "      <th>4</th>\n",
       "      <td>disgust</td>\n",
       "      <td>At a gathering I found myself involuntarily si...</td>\n",
       "      <td>1</td>\n",
       "      <td>1</td>\n",
       "    </tr>\n",
       "  </tbody>\n",
       "</table>\n",
       "</div>"
      ],
      "text/plain": [
       "   emotion                                               text  id  prediction\n",
       "0      joy  On days when I feel close to my partner and ot...   4           1\n",
       "1     fear  Every time I imagine that someone I love or I ...   2           5\n",
       "2    anger  When I had been obviously unjustly treated and...   0           5\n",
       "3  sadness  When I think about the short time that we live...   5           5\n",
       "4  disgust  At a gathering I found myself involuntarily si...   1           1"
      ]
     },
     "execution_count": 250,
     "metadata": {},
     "output_type": "execute_result"
    }
   ],
   "source": [
    "df_isear.head()"
   ]
  },
  {
   "cell_type": "code",
   "execution_count": 252,
   "metadata": {},
   "outputs": [
    {
     "data": {
      "text/plain": [
       "emotion       0.431746\n",
       "text          0.431746\n",
       "id            0.431746\n",
       "prediction    0.431746\n",
       "dtype: float64"
      ]
     },
     "execution_count": 252,
     "metadata": {},
     "output_type": "execute_result"
    }
   ],
   "source": [
    "df_isear[df_isear['id']==df_isear['prediction']].count()/df_isear.count()"
   ]
  }
 ],
 "metadata": {
  "kernelspec": {
   "display_name": "Python 3",
   "language": "python",
   "name": "python3"
  },
  "language_info": {
   "codemirror_mode": {
    "name": "ipython",
    "version": 3
   },
   "file_extension": ".py",
   "mimetype": "text/x-python",
   "name": "python",
   "nbconvert_exporter": "python",
   "pygments_lexer": "ipython3",
   "version": "3.6.4"
  }
 },
 "nbformat": 4,
 "nbformat_minor": 2
}
